{
 "cells": [
  {
   "cell_type": "code",
   "execution_count": 8,
   "metadata": {},
   "outputs": [],
   "source": [
    "# Import necessary libraries\n",
    "import os  \n",
    "from dotenv import load_dotenv \n",
    "import sqlalchemy as db  \n",
    "import pandas as pd  \n",
    "\n",
    "# Set display options for pandas DataFrame\n",
    "pd.set_option('display.max_rows', 500)  # Display all rows\n",
    "pd.set_option('display.max_columns', 500)  # Display all columns\n",
    "pd.set_option('display.width', 1000)  # Set display width for better readability\n",
    "\n",
    "# Load environment variables from .env file\n",
    "load_dotenv()\n",
    "\n",
    "# Get database details from environment variables\n",
    "db_username = os.getenv('DB_USERNAME')  \n",
    "db_password = os.getenv('DB_PASSWORD') \n",
    "db_host = os.getenv('DB_HOST')  \n",
    "db_port = os.getenv('DB_PORT')  \n",
    "db_name = os.getenv('DB_NAME')  \n",
    "db_schema = os.getenv('DB_SCHEMA')  \n"
   ]
  },
  {
   "cell_type": "code",
   "execution_count": 9,
   "metadata": {},
   "outputs": [
    {
     "name": "stdout",
     "output_type": "stream",
     "text": [
      "Connection successful!\n"
     ]
    }
   ],
   "source": [
    "# Construct connection string using database details\n",
    "connection_string = f'postgresql://{db_username}:{db_password}@{db_host}:{db_port}/{db_name}'\n",
    "# Create a SQLAlchemy engine object with the connection string\n",
    "engine = db.create_engine(connection_string, echo=False)  # 'echo=False' suppresses logging\n",
    "\n",
    "# Attempt to connect to the database\n",
    "try:\n",
    "    # Establish a connection to the database\n",
    "    conn = engine.connect()\n",
    "    # Print success message if connection is established\n",
    "    print(\"Connection successful!\")\n",
    "except Exception as e:\n",
    "    # Print error message if connection fails\n",
    "    print(\"Connection failed:\", e)\n"
   ]
  },
  {
   "cell_type": "code",
   "execution_count": 10,
   "metadata": {},
   "outputs": [
    {
     "name": "stdout",
     "output_type": "stream",
     "text": [
      "Table('customer', MetaData(), Column('customerid', INTEGER(), table=<customer>, primary_key=True, nullable=False, server_default=DefaultClause(<sqlalchemy.sql.elements.TextClause object at 0x00000219700698D0>, for_update=False)), Column('firstname', VARCHAR(length=50), table=<customer>), Column('lastname', VARCHAR(length=50), table=<customer>), Column('dateofbirth', DATE(), table=<customer>), Column('gender', CHAR(length=1), table=<customer>), Column('email', VARCHAR(length=100), table=<customer>), Column('phonenumber', VARCHAR(length=20), table=<customer>), Column('generateddate', DATE(), table=<customer>), schema='dev')\n",
      "dict_keys(['dev.customer', 'dev.geo_data'])\n"
     ]
    }
   ],
   "source": [
    "# Create a metadata object to store database schema information\n",
    "metadata = db.MetaData()  # Instantiate a MetaData object\n",
    "\n",
    "# Reflect the 'customer' table from the database schema\n",
    "customer = db.Table('customer', metadata, autoload=True, autoload_with=engine, schema=db_schema)\n",
    "# Create a Table object named 'customer' by reflecting the existing table in the database\n",
    "\n",
    "# Reflect metadata from the engine (database)\n",
    "metadata.reflect(bind=engine)\n",
    "# Reflect the metadata (tables, columns, etc.) from the database using the engine\n",
    "\n",
    "# Print the metadata for the 'customer' table\n",
    "print(repr(metadata.tables['dev.customer']))\n",
    "# Print the representation of the 'customer' table metadata, including columns and constraints\n",
    "\n",
    "# Print the keys (table names) of the reflected metadata\n",
    "print(metadata.tables.keys())\n",
    "# Print the keys (table names) of the metadata dictionary\n"
   ]
  },
  {
   "cell_type": "code",
   "execution_count": 11,
   "metadata": {},
   "outputs": [
    {
     "name": "stdout",
     "output_type": "stream",
     "text": [
      "['customerid', 'firstname', 'lastname', 'dateofbirth', 'gender', 'email', 'phonenumber', 'generateddate']\n"
     ]
    }
   ],
   "source": [
    "# Print the keys (column names) of the 'customer' table\n",
    "print(customer.columns.keys())"
   ]
  },
  {
   "cell_type": "code",
   "execution_count": 12,
   "metadata": {},
   "outputs": [
    {
     "name": "stdout",
     "output_type": "stream",
     "text": [
      "   customerid firstname  lastname dateofbirth gender                          email   phonenumber generateddate\n",
      "0           1      John       Doe  1980-05-15      M           john.doe@example.com  123-456-7890    2024-03-25\n",
      "1           2      Jane     Smith  1992-10-20      F         jane.smith@example.com  987-654-3210    2024-03-25\n",
      "2           3     David   Johnson  1975-08-12      M      david.johnson@example.com  555-555-5555    2024-03-25\n",
      "3           4     Sarah  Williams  1988-03-25      F     sarah.williams@example.com  999-999-9999    2024-03-25\n",
      "4           5   Michael     Brown  1982-11-30      M      michael.brown@example.com  777-777-7777    2024-03-25\n",
      "5           6     Emily     Jones  1995-06-10      F        emily.jones@example.com  888-888-8888    2024-03-25\n",
      "6           7    Robert    Garcia  1970-02-18      M      robert.garcia@example.com  222-222-2222    2024-03-25\n",
      "7           8  Jennifer  Martinez  1986-09-05      F  jennifer.martinez@example.com  333-333-3333    2024-03-25\n",
      "8           9   William       Lee  1990-04-17      M        william.lee@example.com  444-444-4444    2024-03-25\n",
      "9          10    Amanda     Lopez  1984-12-22      F       amanda.lopez@example.com  666-666-6666    2024-03-25\n"
     ]
    },
    {
     "data": {
      "text/html": [
       "<div>\n",
       "<style scoped>\n",
       "    .dataframe tbody tr th:only-of-type {\n",
       "        vertical-align: middle;\n",
       "    }\n",
       "\n",
       "    .dataframe tbody tr th {\n",
       "        vertical-align: top;\n",
       "    }\n",
       "\n",
       "    .dataframe thead th {\n",
       "        text-align: right;\n",
       "    }\n",
       "</style>\n",
       "<table border=\"1\" class=\"dataframe\">\n",
       "  <thead>\n",
       "    <tr style=\"text-align: right;\">\n",
       "      <th></th>\n",
       "      <th>customerid</th>\n",
       "    </tr>\n",
       "  </thead>\n",
       "  <tbody>\n",
       "    <tr>\n",
       "      <th>count</th>\n",
       "      <td>10.00000</td>\n",
       "    </tr>\n",
       "    <tr>\n",
       "      <th>mean</th>\n",
       "      <td>5.50000</td>\n",
       "    </tr>\n",
       "    <tr>\n",
       "      <th>std</th>\n",
       "      <td>3.02765</td>\n",
       "    </tr>\n",
       "    <tr>\n",
       "      <th>min</th>\n",
       "      <td>1.00000</td>\n",
       "    </tr>\n",
       "    <tr>\n",
       "      <th>25%</th>\n",
       "      <td>3.25000</td>\n",
       "    </tr>\n",
       "    <tr>\n",
       "      <th>50%</th>\n",
       "      <td>5.50000</td>\n",
       "    </tr>\n",
       "    <tr>\n",
       "      <th>75%</th>\n",
       "      <td>7.75000</td>\n",
       "    </tr>\n",
       "    <tr>\n",
       "      <th>max</th>\n",
       "      <td>10.00000</td>\n",
       "    </tr>\n",
       "  </tbody>\n",
       "</table>\n",
       "</div>"
      ],
      "text/plain": [
       "       customerid\n",
       "count    10.00000\n",
       "mean      5.50000\n",
       "std       3.02765\n",
       "min       1.00000\n",
       "25%       3.25000\n",
       "50%       5.50000\n",
       "75%       7.75000\n",
       "max      10.00000"
      ]
     },
     "execution_count": 12,
     "metadata": {},
     "output_type": "execute_result"
    }
   ],
   "source": [
    "# Construct a SQL SELECT query to retrieve data from the 'customer' table\n",
    "query = customer.select()  \n",
    "# Create a ResultProxy by executing the query\n",
    "exe = conn.execute(query)\n",
    "# Fetch the first 60 rows of the result\n",
    "result = exe.fetchmany(60)\n",
    "# Convert the fetched data into a pandas DataFrame\n",
    "customer_df = pd.DataFrame(result)\n",
    "# Print the first 10 rows of the DataFrame\n",
    "print(customer_df.head(10))\n",
    "# Display summary statistics for the DataFrame\n",
    "customer_df.describe()\n"
   ]
  },
  {
   "cell_type": "code",
   "execution_count": 13,
   "metadata": {},
   "outputs": [
    {
     "data": {
      "text/html": [
       "<div>\n",
       "<style scoped>\n",
       "    .dataframe tbody tr th:only-of-type {\n",
       "        vertical-align: middle;\n",
       "    }\n",
       "\n",
       "    .dataframe tbody tr th {\n",
       "        vertical-align: top;\n",
       "    }\n",
       "\n",
       "    .dataframe thead th {\n",
       "        text-align: right;\n",
       "    }\n",
       "</style>\n",
       "<table border=\"1\" class=\"dataframe\">\n",
       "  <thead>\n",
       "    <tr style=\"text-align: right;\">\n",
       "      <th></th>\n",
       "      <th>customerid</th>\n",
       "      <th>firstname</th>\n",
       "      <th>lastname</th>\n",
       "      <th>dateofbirth</th>\n",
       "      <th>gender</th>\n",
       "      <th>email</th>\n",
       "      <th>phonenumber</th>\n",
       "      <th>generateddate</th>\n",
       "    </tr>\n",
       "  </thead>\n",
       "  <tbody>\n",
       "    <tr>\n",
       "      <th>0</th>\n",
       "      <td>1</td>\n",
       "      <td>John</td>\n",
       "      <td>Doe</td>\n",
       "      <td>1980-05-15</td>\n",
       "      <td>M</td>\n",
       "      <td>john.doe@example.com</td>\n",
       "      <td>123-456-7890</td>\n",
       "      <td>2024-03-25</td>\n",
       "    </tr>\n",
       "    <tr>\n",
       "      <th>1</th>\n",
       "      <td>3</td>\n",
       "      <td>David</td>\n",
       "      <td>Johnson</td>\n",
       "      <td>1975-08-12</td>\n",
       "      <td>M</td>\n",
       "      <td>david.johnson@example.com</td>\n",
       "      <td>555-555-5555</td>\n",
       "      <td>2024-03-25</td>\n",
       "    </tr>\n",
       "    <tr>\n",
       "      <th>2</th>\n",
       "      <td>5</td>\n",
       "      <td>Michael</td>\n",
       "      <td>Brown</td>\n",
       "      <td>1982-11-30</td>\n",
       "      <td>M</td>\n",
       "      <td>michael.brown@example.com</td>\n",
       "      <td>777-777-7777</td>\n",
       "      <td>2024-03-25</td>\n",
       "    </tr>\n",
       "    <tr>\n",
       "      <th>3</th>\n",
       "      <td>7</td>\n",
       "      <td>Robert</td>\n",
       "      <td>Garcia</td>\n",
       "      <td>1970-02-18</td>\n",
       "      <td>M</td>\n",
       "      <td>robert.garcia@example.com</td>\n",
       "      <td>222-222-2222</td>\n",
       "      <td>2024-03-25</td>\n",
       "    </tr>\n",
       "    <tr>\n",
       "      <th>4</th>\n",
       "      <td>9</td>\n",
       "      <td>William</td>\n",
       "      <td>Lee</td>\n",
       "      <td>1990-04-17</td>\n",
       "      <td>M</td>\n",
       "      <td>william.lee@example.com</td>\n",
       "      <td>444-444-4444</td>\n",
       "      <td>2024-03-25</td>\n",
       "    </tr>\n",
       "  </tbody>\n",
       "</table>\n",
       "</div>"
      ],
      "text/plain": [
       "   customerid firstname lastname dateofbirth gender                      email   phonenumber generateddate\n",
       "0           1      John      Doe  1980-05-15      M       john.doe@example.com  123-456-7890    2024-03-25\n",
       "1           3     David  Johnson  1975-08-12      M  david.johnson@example.com  555-555-5555    2024-03-25\n",
       "2           5   Michael    Brown  1982-11-30      M  michael.brown@example.com  777-777-7777    2024-03-25\n",
       "3           7    Robert   Garcia  1970-02-18      M  robert.garcia@example.com  222-222-2222    2024-03-25\n",
       "4           9   William      Lee  1990-04-17      M    william.lee@example.com  444-444-4444    2024-03-25"
      ]
     },
     "execution_count": 13,
     "metadata": {},
     "output_type": "execute_result"
    }
   ],
   "source": [
    "# Construct a SQL query to select all columns from the 'customer' table where gender is 'M'\n",
    "query2 = \"select * from dev.customer where gender = 'M'\"\n",
    "# Execute the SQL query and store the result\n",
    "result1 = conn.execute(query2)\n",
    "# Fetch all rows of the result and convert them into a pandas DataFrame\n",
    "male_cust_df = pd.DataFrame(result1.fetchall())\n",
    "# Print the first few rows of the DataFrame\n",
    "male_cust_df.head()\n"
   ]
  },
  {
   "cell_type": "code",
   "execution_count": 14,
   "metadata": {},
   "outputs": [
    {
     "name": "stdout",
     "output_type": "stream",
     "text": [
      "Data successfully written to the database.\n"
     ]
    }
   ],
   "source": [
    "# Define database table and schema names\n",
    "db_table = 'geo_data'\n",
    "db_schema = 'dev'\n",
    "\n",
    "# Read geographical data from CSV file into a pandas DataFrame\n",
    "geosp_data = pd.read_csv(\"geographical_data.csv\", sep=',', skipinitialspace=True)\n",
    "\n",
    "# Display the first few rows of the DataFrame\n",
    "geosp_data.head()\n",
    "\n",
    "try:\n",
    "    # Write geographical data to PostgreSQL database table\n",
    "    geosp_data.to_sql(db_table, con=engine, schema=db_schema, index=False, if_exists='replace')\n",
    "    print(\"Data successfully written to the database.\")\n",
    "except Exception as e:\n",
    "    # Print error message if writing data fails\n",
    "    print(\"Error:\", e)"
   ]
  }
 ],
 "metadata": {
  "kernelspec": {
   "display_name": "Python 3",
   "language": "python",
   "name": "python3"
  },
  "language_info": {
   "codemirror_mode": {
    "name": "ipython",
    "version": 3
   },
   "file_extension": ".py",
   "mimetype": "text/x-python",
   "name": "python",
   "nbconvert_exporter": "python",
   "pygments_lexer": "ipython3",
   "version": "3.11.8"
  }
 },
 "nbformat": 4,
 "nbformat_minor": 2
}
